{
  "nbformat": 4,
  "nbformat_minor": 0,
  "metadata": {
    "colab": {
      "provenance": []
    },
    "kernelspec": {
      "name": "python3",
      "display_name": "Python 3"
    },
    "language_info": {
      "name": "python"
    }
  },
  "cells": [
    {
      "cell_type": "code",
      "execution_count": 1,
      "metadata": {
        "colab": {
          "base_uri": "https://localhost:8080/"
        },
        "id": "6VjlRw6oQWPm",
        "outputId": "50d2fb39-8cd7-452d-82d3-cdf7cae61a91"
      },
      "outputs": [
        {
          "output_type": "stream",
          "name": "stderr",
          "text": [
            "[nltk_data] Downloading package punkt to /root/nltk_data...\n",
            "[nltk_data]   Package punkt is already up-to-date!\n",
            "[nltk_data] Downloading package stopwords to /root/nltk_data...\n",
            "[nltk_data]   Package stopwords is already up-to-date!\n"
          ]
        },
        {
          "output_type": "execute_result",
          "data": {
            "text/plain": [
              "True"
            ]
          },
          "metadata": {},
          "execution_count": 1
        }
      ],
      "source": [
        "import nltk\n",
        "nltk.download('punkt')\n",
        "nltk.download('stopwords')"
      ]
    },
    {
      "cell_type": "code",
      "source": [
        "DOCUMENT = \"\"\"\n",
        "Millions of Muslims in Indonesia are gearing up to celebrate the holy month of Ramadan, which is expected to start on Thursday, with traditions and ceremonies across the world’s most populous Muslim-majority country amid soaring food prices.\n",
        "\n",
        "From colorful torchlight street parades to cleaning relatives’ graves and sharing meals with family and friends, every region in the vast Southeast Asian archipelago seems to have its own way to mark the start of Ramadan, highlighting the nation’s diverse cultural heritage.\n",
        "\n",
        "The country’s religious affairs minister on Wednesday evening will try to sight the crescent moon to determine the first day of the holy month. If the moon is not visible, as expected, the first day of Ramadan will be a day later. Most Indonesians — Muslims comprise nearly 90% of the country’s 277 million people — are expected to follow the government’s official date.\n",
        "\n",
        "Indonesia’s second-largest Islamic group, Muhammadiyah, which counts more than 60 million members, said that according to its astronomical calculations Ramadan will begin on Thursday.\n",
        "\n",
        "During Ramadan, Muslims refrain from eating, drinking, smoking and sexual intercourse from sunrise until sunset. Even a tiny sip of water or a puff of smoke is enough to invalidate the fast. At night, family and friends gather and feast in a festive atmosphere.\n",
        "\n",
        "The fasting is aimed at bringing the faithful closer to God and reminding them of the suffering of the poor. Muslims are expected to strictly observe daily prayers and engage in heightened religious contemplation. They are also urged to refrain from gossip, fighting or cursing during the holy month.\n",
        "\n",
        "Although Indonesia has more Muslims than any other country in the world, its Ramadan traditions have been influenced by other religions. Nyadran is a Javanese ritual heavily influenced by Hinduism and Buddhism that involves visiting ancestors’ gravesites to pay respect.\n",
        "\n",
        "Each year, thousands of villagers who live on the slopes of Mount Merapi in Central Java visit cemeteries to welcome Ramadan. In the ritual, people clean and decorate gravesites and make prayers and offerings. They bring various foods in bamboo containers that they eat together after praying.\n",
        "\n",
        "In other regions on the main island of Java, including in the capital, Jakarta, Muslims also mark the holy month by cleaning their relatives’ graves, scattering flower petals on them and praying for the deceased.\n",
        "\n",
        "After evening prayers, many boys and girls across Jakarta parade through the streets of the densely populated neighborhoods to welcome the holy month. They carry torches and play Islamic songs accompanied by the beat of the rebana, the Arabic handheld percussion instrument.\n",
        "\n",
        "People in Indonesia’s deeply conservative Aceh province celebrate the beginning of Ramadan with Meugang festivities by slaughtering animals such as oxen or buffalo, as well as smaller animals like chicken and ducks. The meat is then cooked and shared with family, friends and even the poor and orphans in a communal feast that aims to bring the community together.\n",
        "\n",
        "Hundreds of residents in Tangerang, a city just outside Jakarta, flock to the Cisadane River to bathe in a tradition that involves washing one’s hair with rice straw shampoo to welcome the holy fasting month with a symbolic spiritual cleansing.\n",
        "\n",
        "Islam follows a lunar calendar, so Ramadan begins around a week and a half earlier each year. At the end of Ramadan, Muslims celebrate the joyous Eid al-Fitr holiday, when children often receive new clothes and gifts.\n",
        "\n",
        "Indonesia’s Trade Ministry has said prices of imported staple foods including wheat, sugar, beef and soybeans have increased sharply this year as a result of rising global commodity prices and supply chain disruptions, particularly following Russia’s invasion of Ukraine.\n",
        "\n",
        "But many people say the rise in prices not only impacts imported foods but also local commodities like rice, eggs, chili, palm oil and onions. Gas and electricity prices have also gone up. Many blame the government for this.\n",
        "\n",
        "Some Muslims worry how they will cope financially during Ramadan this year.\n",
        "\n",
        "“Prices are going up every week. How come the government cannot help with this? Anything to do with cooking is rising,” said Yulia Ningsih, a mother of two who lives in Jakarta. “I worry that rising food and energy costs will impact Ramadan celebrations.”\n",
        "\"\"\""
      ],
      "metadata": {
        "id": "ls_PA9D2QbfC"
      },
      "execution_count": 2,
      "outputs": []
    },
    {
      "cell_type": "code",
      "source": [
        "import re\n",
        "\n",
        "DOCUMENT = re.sub(r'\\n|\\r', ' ', DOCUMENT)\n",
        "DOCUMENT = re.sub(r' +', ' ', DOCUMENT)\n",
        "DOCUMENT = DOCUMENT.strip()"
      ],
      "metadata": {
        "id": "_c_VG-KPQtpH"
      },
      "execution_count": 3,
      "outputs": []
    },
    {
      "cell_type": "code",
      "source": [
        "sentences = nltk.sent_tokenize(DOCUMENT)\n",
        "len(sentences)"
      ],
      "metadata": {
        "colab": {
          "base_uri": "https://localhost:8080/"
        },
        "id": "7kbrix4QSV4Q",
        "outputId": "efa16632-3208-4457-8fe7-393aa8a39569"
      },
      "execution_count": 4,
      "outputs": [
        {
          "output_type": "execute_result",
          "data": {
            "text/plain": [
              "34"
            ]
          },
          "metadata": {},
          "execution_count": 4
        }
      ]
    },
    {
      "cell_type": "code",
      "source": [
        "import numpy as np\n",
        "\n",
        "stop_words = nltk.corpus.stopwords.words('english')\n",
        "\n",
        "def normalize_document(doc):\n",
        "    # lower case and remove special characters\\whitespaces\n",
        "    doc = re.sub(r'[^a-zA-Z\\s]', '', doc, re.I|re.A)\n",
        "    doc = doc.lower()\n",
        "    doc = doc.strip()\n",
        "    # tokenize document\n",
        "    tokens = nltk.word_tokenize(doc)\n",
        "    # filter stopwords out of document\n",
        "    filtered_tokens = [token for token in tokens if token not in stop_words]\n",
        "    # re-create document from filtered tokens\n",
        "    doc = ' '.join(filtered_tokens)\n",
        "    return doc\n",
        "\n",
        "normalize_corpus = np.vectorize(normalize_document)\n",
        "\n",
        "norm_sentences = normalize_corpus(sentences)\n",
        "norm_sentences[:3]"
      ],
      "metadata": {
        "colab": {
          "base_uri": "https://localhost:8080/"
        },
        "id": "1UE89XhmSNmH",
        "outputId": "1aebaa8b-4449-4fe1-8bbd-10c9b3d6d36e"
      },
      "execution_count": 5,
      "outputs": [
        {
          "output_type": "execute_result",
          "data": {
            "text/plain": [
              "array(['millions muslims indonesia gearing celebrate holy month ramadan expected start thursday traditions ceremonies across worlds populous muslimmajority country amid soaring food prices',\n",
              "       'colorful torchlight street parades cleaning relatives graves sharing meals family friends every region vast southeast asian archipelago seems way mark start ramadan highlighting nations diverse cultural heritage',\n",
              "       'countrys religious affairs minister wednesday evening try sight crescent moon determine first day holy month'],\n",
              "      dtype='<U229')"
            ]
          },
          "metadata": {},
          "execution_count": 5
        }
      ]
    },
    {
      "cell_type": "code",
      "source": [
        "from sklearn.feature_extraction.text import TfidfVectorizer\n",
        "import pandas as pd\n",
        "\n",
        "tv = TfidfVectorizer(min_df=0., max_df=1., use_idf=True)\n",
        "dt_matrix = tv.fit_transform(norm_sentences)\n",
        "dt_matrix = dt_matrix.toarray()\n",
        "\n",
        "vocab = tv.get_feature_names_out() \n",
        "td_matrix = dt_matrix.T\n",
        "print(td_matrix.shape)\n",
        "pd.DataFrame(np.round(td_matrix, 2), index=vocab)"
      ],
      "metadata": {
        "colab": {
          "base_uri": "https://localhost:8080/",
          "height": 505
        },
        "id": "Q9E45EEqSRbr",
        "outputId": "a1b6d887-9387-4528-d54f-f44fdf8d68d7"
      },
      "execution_count": 8,
      "outputs": [
        {
          "output_type": "stream",
          "name": "stdout",
          "text": [
            "(311, 34)\n"
          ]
        },
        {
          "output_type": "execute_result",
          "data": {
            "text/plain": [
              "               0    1     2    3    4     5    6    7    8    9   ...   24  \\\n",
              "accompanied  0.00  0.0  0.00  0.0  0.0  0.00  0.0  0.0  0.0  0.0  ...  0.0   \n",
              "according    0.00  0.0  0.00  0.0  0.0  0.28  0.0  0.0  0.0  0.0  ...  0.0   \n",
              "aceh         0.00  0.0  0.00  0.0  0.0  0.00  0.0  0.0  0.0  0.0  ...  0.0   \n",
              "across       0.22  0.0  0.00  0.0  0.0  0.00  0.0  0.0  0.0  0.0  ...  0.0   \n",
              "affairs      0.00  0.0  0.28  0.0  0.0  0.00  0.0  0.0  0.0  0.0  ...  0.0   \n",
              "...           ...  ...   ...  ...  ...   ...  ...  ...  ...  ...  ...  ...   \n",
              "world        0.00  0.0  0.00  0.0  0.0  0.00  0.0  0.0  0.0  0.0  ...  0.0   \n",
              "worlds       0.24  0.0  0.00  0.0  0.0  0.00  0.0  0.0  0.0  0.0  ...  0.0   \n",
              "worry        0.00  0.0  0.00  0.0  0.0  0.00  0.0  0.0  0.0  0.0  ...  0.0   \n",
              "year         0.00  0.0  0.00  0.0  0.0  0.00  0.0  0.0  0.0  0.0  ...  0.0   \n",
              "yulia        0.00  0.0  0.00  0.0  0.0  0.00  0.0  0.0  0.0  0.0  ...  0.0   \n",
              "\n",
              "               25   26   27   28    29   30   31    32    33  \n",
              "accompanied  0.00  0.0  0.0  0.0  0.00  0.0  0.0  0.00  0.00  \n",
              "according    0.00  0.0  0.0  0.0  0.00  0.0  0.0  0.00  0.00  \n",
              "aceh         0.00  0.0  0.0  0.0  0.00  0.0  0.0  0.00  0.00  \n",
              "across       0.00  0.0  0.0  0.0  0.00  0.0  0.0  0.00  0.00  \n",
              "affairs      0.00  0.0  0.0  0.0  0.00  0.0  0.0  0.00  0.00  \n",
              "...           ...  ...  ...  ...   ...  ...  ...   ...   ...  \n",
              "world        0.00  0.0  0.0  0.0  0.00  0.0  0.0  0.00  0.00  \n",
              "worlds       0.00  0.0  0.0  0.0  0.00  0.0  0.0  0.00  0.00  \n",
              "worry        0.00  0.0  0.0  0.0  0.45  0.0  0.0  0.00  0.35  \n",
              "year         0.15  0.0  0.0  0.0  0.38  0.0  0.0  0.00  0.00  \n",
              "yulia        0.00  0.0  0.0  0.0  0.00  0.0  0.0  0.33  0.00  \n",
              "\n",
              "[311 rows x 34 columns]"
            ],
            "text/html": [
              "\n",
              "  <div id=\"df-6dbcbffe-e959-4166-8213-82fead35dcd2\">\n",
              "    <div class=\"colab-df-container\">\n",
              "      <div>\n",
              "<style scoped>\n",
              "    .dataframe tbody tr th:only-of-type {\n",
              "        vertical-align: middle;\n",
              "    }\n",
              "\n",
              "    .dataframe tbody tr th {\n",
              "        vertical-align: top;\n",
              "    }\n",
              "\n",
              "    .dataframe thead th {\n",
              "        text-align: right;\n",
              "    }\n",
              "</style>\n",
              "<table border=\"1\" class=\"dataframe\">\n",
              "  <thead>\n",
              "    <tr style=\"text-align: right;\">\n",
              "      <th></th>\n",
              "      <th>0</th>\n",
              "      <th>1</th>\n",
              "      <th>2</th>\n",
              "      <th>3</th>\n",
              "      <th>4</th>\n",
              "      <th>5</th>\n",
              "      <th>6</th>\n",
              "      <th>7</th>\n",
              "      <th>8</th>\n",
              "      <th>9</th>\n",
              "      <th>...</th>\n",
              "      <th>24</th>\n",
              "      <th>25</th>\n",
              "      <th>26</th>\n",
              "      <th>27</th>\n",
              "      <th>28</th>\n",
              "      <th>29</th>\n",
              "      <th>30</th>\n",
              "      <th>31</th>\n",
              "      <th>32</th>\n",
              "      <th>33</th>\n",
              "    </tr>\n",
              "  </thead>\n",
              "  <tbody>\n",
              "    <tr>\n",
              "      <th>accompanied</th>\n",
              "      <td>0.00</td>\n",
              "      <td>0.0</td>\n",
              "      <td>0.00</td>\n",
              "      <td>0.0</td>\n",
              "      <td>0.0</td>\n",
              "      <td>0.00</td>\n",
              "      <td>0.0</td>\n",
              "      <td>0.0</td>\n",
              "      <td>0.0</td>\n",
              "      <td>0.0</td>\n",
              "      <td>...</td>\n",
              "      <td>0.0</td>\n",
              "      <td>0.00</td>\n",
              "      <td>0.0</td>\n",
              "      <td>0.0</td>\n",
              "      <td>0.0</td>\n",
              "      <td>0.00</td>\n",
              "      <td>0.0</td>\n",
              "      <td>0.0</td>\n",
              "      <td>0.00</td>\n",
              "      <td>0.00</td>\n",
              "    </tr>\n",
              "    <tr>\n",
              "      <th>according</th>\n",
              "      <td>0.00</td>\n",
              "      <td>0.0</td>\n",
              "      <td>0.00</td>\n",
              "      <td>0.0</td>\n",
              "      <td>0.0</td>\n",
              "      <td>0.28</td>\n",
              "      <td>0.0</td>\n",
              "      <td>0.0</td>\n",
              "      <td>0.0</td>\n",
              "      <td>0.0</td>\n",
              "      <td>...</td>\n",
              "      <td>0.0</td>\n",
              "      <td>0.00</td>\n",
              "      <td>0.0</td>\n",
              "      <td>0.0</td>\n",
              "      <td>0.0</td>\n",
              "      <td>0.00</td>\n",
              "      <td>0.0</td>\n",
              "      <td>0.0</td>\n",
              "      <td>0.00</td>\n",
              "      <td>0.00</td>\n",
              "    </tr>\n",
              "    <tr>\n",
              "      <th>aceh</th>\n",
              "      <td>0.00</td>\n",
              "      <td>0.0</td>\n",
              "      <td>0.00</td>\n",
              "      <td>0.0</td>\n",
              "      <td>0.0</td>\n",
              "      <td>0.00</td>\n",
              "      <td>0.0</td>\n",
              "      <td>0.0</td>\n",
              "      <td>0.0</td>\n",
              "      <td>0.0</td>\n",
              "      <td>...</td>\n",
              "      <td>0.0</td>\n",
              "      <td>0.00</td>\n",
              "      <td>0.0</td>\n",
              "      <td>0.0</td>\n",
              "      <td>0.0</td>\n",
              "      <td>0.00</td>\n",
              "      <td>0.0</td>\n",
              "      <td>0.0</td>\n",
              "      <td>0.00</td>\n",
              "      <td>0.00</td>\n",
              "    </tr>\n",
              "    <tr>\n",
              "      <th>across</th>\n",
              "      <td>0.22</td>\n",
              "      <td>0.0</td>\n",
              "      <td>0.00</td>\n",
              "      <td>0.0</td>\n",
              "      <td>0.0</td>\n",
              "      <td>0.00</td>\n",
              "      <td>0.0</td>\n",
              "      <td>0.0</td>\n",
              "      <td>0.0</td>\n",
              "      <td>0.0</td>\n",
              "      <td>...</td>\n",
              "      <td>0.0</td>\n",
              "      <td>0.00</td>\n",
              "      <td>0.0</td>\n",
              "      <td>0.0</td>\n",
              "      <td>0.0</td>\n",
              "      <td>0.00</td>\n",
              "      <td>0.0</td>\n",
              "      <td>0.0</td>\n",
              "      <td>0.00</td>\n",
              "      <td>0.00</td>\n",
              "    </tr>\n",
              "    <tr>\n",
              "      <th>affairs</th>\n",
              "      <td>0.00</td>\n",
              "      <td>0.0</td>\n",
              "      <td>0.28</td>\n",
              "      <td>0.0</td>\n",
              "      <td>0.0</td>\n",
              "      <td>0.00</td>\n",
              "      <td>0.0</td>\n",
              "      <td>0.0</td>\n",
              "      <td>0.0</td>\n",
              "      <td>0.0</td>\n",
              "      <td>...</td>\n",
              "      <td>0.0</td>\n",
              "      <td>0.00</td>\n",
              "      <td>0.0</td>\n",
              "      <td>0.0</td>\n",
              "      <td>0.0</td>\n",
              "      <td>0.00</td>\n",
              "      <td>0.0</td>\n",
              "      <td>0.0</td>\n",
              "      <td>0.00</td>\n",
              "      <td>0.00</td>\n",
              "    </tr>\n",
              "    <tr>\n",
              "      <th>...</th>\n",
              "      <td>...</td>\n",
              "      <td>...</td>\n",
              "      <td>...</td>\n",
              "      <td>...</td>\n",
              "      <td>...</td>\n",
              "      <td>...</td>\n",
              "      <td>...</td>\n",
              "      <td>...</td>\n",
              "      <td>...</td>\n",
              "      <td>...</td>\n",
              "      <td>...</td>\n",
              "      <td>...</td>\n",
              "      <td>...</td>\n",
              "      <td>...</td>\n",
              "      <td>...</td>\n",
              "      <td>...</td>\n",
              "      <td>...</td>\n",
              "      <td>...</td>\n",
              "      <td>...</td>\n",
              "      <td>...</td>\n",
              "      <td>...</td>\n",
              "    </tr>\n",
              "    <tr>\n",
              "      <th>world</th>\n",
              "      <td>0.00</td>\n",
              "      <td>0.0</td>\n",
              "      <td>0.00</td>\n",
              "      <td>0.0</td>\n",
              "      <td>0.0</td>\n",
              "      <td>0.00</td>\n",
              "      <td>0.0</td>\n",
              "      <td>0.0</td>\n",
              "      <td>0.0</td>\n",
              "      <td>0.0</td>\n",
              "      <td>...</td>\n",
              "      <td>0.0</td>\n",
              "      <td>0.00</td>\n",
              "      <td>0.0</td>\n",
              "      <td>0.0</td>\n",
              "      <td>0.0</td>\n",
              "      <td>0.00</td>\n",
              "      <td>0.0</td>\n",
              "      <td>0.0</td>\n",
              "      <td>0.00</td>\n",
              "      <td>0.00</td>\n",
              "    </tr>\n",
              "    <tr>\n",
              "      <th>worlds</th>\n",
              "      <td>0.24</td>\n",
              "      <td>0.0</td>\n",
              "      <td>0.00</td>\n",
              "      <td>0.0</td>\n",
              "      <td>0.0</td>\n",
              "      <td>0.00</td>\n",
              "      <td>0.0</td>\n",
              "      <td>0.0</td>\n",
              "      <td>0.0</td>\n",
              "      <td>0.0</td>\n",
              "      <td>...</td>\n",
              "      <td>0.0</td>\n",
              "      <td>0.00</td>\n",
              "      <td>0.0</td>\n",
              "      <td>0.0</td>\n",
              "      <td>0.0</td>\n",
              "      <td>0.00</td>\n",
              "      <td>0.0</td>\n",
              "      <td>0.0</td>\n",
              "      <td>0.00</td>\n",
              "      <td>0.00</td>\n",
              "    </tr>\n",
              "    <tr>\n",
              "      <th>worry</th>\n",
              "      <td>0.00</td>\n",
              "      <td>0.0</td>\n",
              "      <td>0.00</td>\n",
              "      <td>0.0</td>\n",
              "      <td>0.0</td>\n",
              "      <td>0.00</td>\n",
              "      <td>0.0</td>\n",
              "      <td>0.0</td>\n",
              "      <td>0.0</td>\n",
              "      <td>0.0</td>\n",
              "      <td>...</td>\n",
              "      <td>0.0</td>\n",
              "      <td>0.00</td>\n",
              "      <td>0.0</td>\n",
              "      <td>0.0</td>\n",
              "      <td>0.0</td>\n",
              "      <td>0.45</td>\n",
              "      <td>0.0</td>\n",
              "      <td>0.0</td>\n",
              "      <td>0.00</td>\n",
              "      <td>0.35</td>\n",
              "    </tr>\n",
              "    <tr>\n",
              "      <th>year</th>\n",
              "      <td>0.00</td>\n",
              "      <td>0.0</td>\n",
              "      <td>0.00</td>\n",
              "      <td>0.0</td>\n",
              "      <td>0.0</td>\n",
              "      <td>0.00</td>\n",
              "      <td>0.0</td>\n",
              "      <td>0.0</td>\n",
              "      <td>0.0</td>\n",
              "      <td>0.0</td>\n",
              "      <td>...</td>\n",
              "      <td>0.0</td>\n",
              "      <td>0.15</td>\n",
              "      <td>0.0</td>\n",
              "      <td>0.0</td>\n",
              "      <td>0.0</td>\n",
              "      <td>0.38</td>\n",
              "      <td>0.0</td>\n",
              "      <td>0.0</td>\n",
              "      <td>0.00</td>\n",
              "      <td>0.00</td>\n",
              "    </tr>\n",
              "    <tr>\n",
              "      <th>yulia</th>\n",
              "      <td>0.00</td>\n",
              "      <td>0.0</td>\n",
              "      <td>0.00</td>\n",
              "      <td>0.0</td>\n",
              "      <td>0.0</td>\n",
              "      <td>0.00</td>\n",
              "      <td>0.0</td>\n",
              "      <td>0.0</td>\n",
              "      <td>0.0</td>\n",
              "      <td>0.0</td>\n",
              "      <td>...</td>\n",
              "      <td>0.0</td>\n",
              "      <td>0.00</td>\n",
              "      <td>0.0</td>\n",
              "      <td>0.0</td>\n",
              "      <td>0.0</td>\n",
              "      <td>0.00</td>\n",
              "      <td>0.0</td>\n",
              "      <td>0.0</td>\n",
              "      <td>0.33</td>\n",
              "      <td>0.00</td>\n",
              "    </tr>\n",
              "  </tbody>\n",
              "</table>\n",
              "<p>311 rows × 34 columns</p>\n",
              "</div>\n",
              "      <button class=\"colab-df-convert\" onclick=\"convertToInteractive('df-6dbcbffe-e959-4166-8213-82fead35dcd2')\"\n",
              "              title=\"Convert this dataframe to an interactive table.\"\n",
              "              style=\"display:none;\">\n",
              "        \n",
              "  <svg xmlns=\"http://www.w3.org/2000/svg\" height=\"24px\"viewBox=\"0 0 24 24\"\n",
              "       width=\"24px\">\n",
              "    <path d=\"M0 0h24v24H0V0z\" fill=\"none\"/>\n",
              "    <path d=\"M18.56 5.44l.94 2.06.94-2.06 2.06-.94-2.06-.94-.94-2.06-.94 2.06-2.06.94zm-11 1L8.5 8.5l.94-2.06 2.06-.94-2.06-.94L8.5 2.5l-.94 2.06-2.06.94zm10 10l.94 2.06.94-2.06 2.06-.94-2.06-.94-.94-2.06-.94 2.06-2.06.94z\"/><path d=\"M17.41 7.96l-1.37-1.37c-.4-.4-.92-.59-1.43-.59-.52 0-1.04.2-1.43.59L10.3 9.45l-7.72 7.72c-.78.78-.78 2.05 0 2.83L4 21.41c.39.39.9.59 1.41.59.51 0 1.02-.2 1.41-.59l7.78-7.78 2.81-2.81c.8-.78.8-2.07 0-2.86zM5.41 20L4 18.59l7.72-7.72 1.47 1.35L5.41 20z\"/>\n",
              "  </svg>\n",
              "      </button>\n",
              "      \n",
              "  <style>\n",
              "    .colab-df-container {\n",
              "      display:flex;\n",
              "      flex-wrap:wrap;\n",
              "      gap: 12px;\n",
              "    }\n",
              "\n",
              "    .colab-df-convert {\n",
              "      background-color: #E8F0FE;\n",
              "      border: none;\n",
              "      border-radius: 50%;\n",
              "      cursor: pointer;\n",
              "      display: none;\n",
              "      fill: #1967D2;\n",
              "      height: 32px;\n",
              "      padding: 0 0 0 0;\n",
              "      width: 32px;\n",
              "    }\n",
              "\n",
              "    .colab-df-convert:hover {\n",
              "      background-color: #E2EBFA;\n",
              "      box-shadow: 0px 1px 2px rgba(60, 64, 67, 0.3), 0px 1px 3px 1px rgba(60, 64, 67, 0.15);\n",
              "      fill: #174EA6;\n",
              "    }\n",
              "\n",
              "    [theme=dark] .colab-df-convert {\n",
              "      background-color: #3B4455;\n",
              "      fill: #D2E3FC;\n",
              "    }\n",
              "\n",
              "    [theme=dark] .colab-df-convert:hover {\n",
              "      background-color: #434B5C;\n",
              "      box-shadow: 0px 1px 3px 1px rgba(0, 0, 0, 0.15);\n",
              "      filter: drop-shadow(0px 1px 2px rgba(0, 0, 0, 0.3));\n",
              "      fill: #FFFFFF;\n",
              "    }\n",
              "  </style>\n",
              "\n",
              "      <script>\n",
              "        const buttonEl =\n",
              "          document.querySelector('#df-6dbcbffe-e959-4166-8213-82fead35dcd2 button.colab-df-convert');\n",
              "        buttonEl.style.display =\n",
              "          google.colab.kernel.accessAllowed ? 'block' : 'none';\n",
              "\n",
              "        async function convertToInteractive(key) {\n",
              "          const element = document.querySelector('#df-6dbcbffe-e959-4166-8213-82fead35dcd2');\n",
              "          const dataTable =\n",
              "            await google.colab.kernel.invokeFunction('convertToInteractive',\n",
              "                                                     [key], {});\n",
              "          if (!dataTable) return;\n",
              "\n",
              "          const docLinkHtml = 'Like what you see? Visit the ' +\n",
              "            '<a target=\"_blank\" href=https://colab.research.google.com/notebooks/data_table.ipynb>data table notebook</a>'\n",
              "            + ' to learn more about interactive tables.';\n",
              "          element.innerHTML = '';\n",
              "          dataTable['output_type'] = 'display_data';\n",
              "          await google.colab.output.renderOutput(dataTable, element);\n",
              "          const docLink = document.createElement('div');\n",
              "          docLink.innerHTML = docLinkHtml;\n",
              "          element.appendChild(docLink);\n",
              "        }\n",
              "      </script>\n",
              "    </div>\n",
              "  </div>\n",
              "  "
            ]
          },
          "metadata": {},
          "execution_count": 8
        }
      ]
    },
    {
      "cell_type": "code",
      "source": [
        "from scipy.sparse.linalg import svds\n",
        "    \n",
        "def low_rank_svd(matrix, singular_count=2):\n",
        "    u, s, vt = svds(matrix, k=singular_count)\n",
        "    return u, s, vt"
      ],
      "metadata": {
        "id": "XLqeaDbxS0Dv"
      },
      "execution_count": 9,
      "outputs": []
    },
    {
      "cell_type": "code",
      "source": [
        "num_sentences = 8\n",
        "num_topics = 3\n",
        "\n",
        "u, s, vt = low_rank_svd(td_matrix, singular_count=num_topics)  \n",
        "print(u.shape, s.shape, vt.shape)\n",
        "term_topic_mat, singular_values, topic_document_mat = u, s, vt"
      ],
      "metadata": {
        "colab": {
          "base_uri": "https://localhost:8080/"
        },
        "id": "XARlQaqdS6e3",
        "outputId": "a2aa7a67-2cef-4fad-a934-f8498099e8bf"
      },
      "execution_count": 10,
      "outputs": [
        {
          "output_type": "stream",
          "name": "stdout",
          "text": [
            "(311, 3) (3,) (3, 34)\n"
          ]
        }
      ]
    },
    {
      "cell_type": "code",
      "source": [
        "# remove singular values below threshold                                         \n",
        "sv_threshold = 0.5\n",
        "min_sigma_value = max(singular_values) * sv_threshold\n",
        "singular_values[singular_values < min_sigma_value] = 0"
      ],
      "metadata": {
        "id": "0GdkS9W5S8zs"
      },
      "execution_count": 11,
      "outputs": []
    },
    {
      "cell_type": "code",
      "source": [
        "salience_scores = np.sqrt(np.dot(np.square(singular_values), \n",
        "                                 np.square(topic_document_mat)))\n",
        "salience_scores"
      ],
      "metadata": {
        "colab": {
          "base_uri": "https://localhost:8080/"
        },
        "id": "rt58KnrES-Y4",
        "outputId": "9dd76b24-16ed-43ad-c4c3-014cace311d6"
      },
      "execution_count": 12,
      "outputs": [
        {
          "output_type": "execute_result",
          "data": {
            "text/plain": [
              "array([0.55463812, 0.31555702, 0.63060459, 0.51296986, 0.31570827,\n",
              "       0.23766638, 0.31685426, 0.06378687, 0.27424868, 0.0754977 ,\n",
              "       0.36616012, 0.43906007, 0.49296538, 0.09605529, 0.253102  ,\n",
              "       0.17605406, 0.2828674 , 0.44906924, 0.54717341, 0.02674163,\n",
              "       0.18668987, 0.34590422, 0.34123504, 0.3581987 , 0.32413672,\n",
              "       0.43579413, 0.47283471, 0.43901076, 0.3721256 , 0.59186596,\n",
              "       0.42730899, 0.2502144 , 0.14634806, 0.41990124])"
            ]
          },
          "metadata": {},
          "execution_count": 12
        }
      ]
    },
    {
      "cell_type": "code",
      "source": [
        "top_sentence_indices = (-salience_scores).argsort()[:num_sentences]\n",
        "top_sentence_indices.sort()"
      ],
      "metadata": {
        "id": "4S02H-RiTAF2"
      },
      "execution_count": 13,
      "outputs": []
    },
    {
      "cell_type": "code",
      "source": [
        "print('\\n'.join(np.array(sentences)[top_sentence_indices]))"
      ],
      "metadata": {
        "colab": {
          "base_uri": "https://localhost:8080/"
        },
        "id": "5fzkKdKvTCOm",
        "outputId": "d5e6361a-87a8-4584-cd6b-aa47aa115342"
      },
      "execution_count": 14,
      "outputs": [
        {
          "output_type": "stream",
          "name": "stdout",
          "text": [
            "Millions of Muslims in Indonesia are gearing up to celebrate the holy month of Ramadan, which is expected to start on Thursday, with traditions and ceremonies across the world’s most populous Muslim-majority country amid soaring food prices.\n",
            "The country’s religious affairs minister on Wednesday evening will try to sight the crescent moon to determine the first day of the holy month.\n",
            "If the moon is not visible, as expected, the first day of Ramadan will be a day later.\n",
            "Although Indonesia has more Muslims than any other country in the world, its Ramadan traditions have been influenced by other religions.\n",
            "In other regions on the main island of Java, including in the capital, Jakarta, Muslims also mark the holy month by cleaning their relatives’ graves, scattering flower petals on them and praying for the deceased.\n",
            "After evening prayers, many boys and girls across Jakarta parade through the streets of the densely populated neighborhoods to welcome the holy month.\n",
            "But many people say the rise in prices not only impacts imported foods but also local commodities like rice, eggs, chili, palm oil and onions.\n",
            "Some Muslims worry how they will cope financially during Ramadan this year.\n"
          ]
        }
      ]
    },
    {
      "cell_type": "code",
      "source": [
        "similarity_matrix = np.matmul(dt_matrix, dt_matrix.T)\n",
        "print(similarity_matrix.shape)\n",
        "np.round(similarity_matrix, 3)"
      ],
      "metadata": {
        "colab": {
          "base_uri": "https://localhost:8080/"
        },
        "id": "RiSNCMbgTELa",
        "outputId": "98e2f55d-9014-4198-e25f-f2b27e3198fe"
      },
      "execution_count": 15,
      "outputs": [
        {
          "output_type": "stream",
          "name": "stdout",
          "text": [
            "(34, 34)\n"
          ]
        },
        {
          "output_type": "execute_result",
          "data": {
            "text/plain": [
              "array([[1.   , 0.052, 0.062, ..., 0.   , 0.   , 0.101],\n",
              "       [0.052, 1.   , 0.   , ..., 0.   , 0.   , 0.021],\n",
              "       [0.062, 0.   , 1.   , ..., 0.   , 0.   , 0.   ],\n",
              "       ...,\n",
              "       [0.   , 0.   , 0.   , ..., 1.   , 0.   , 0.   ],\n",
              "       [0.   , 0.   , 0.   , ..., 0.   , 1.   , 0.088],\n",
              "       [0.101, 0.021, 0.   , ..., 0.   , 0.088, 1.   ]])"
            ]
          },
          "metadata": {},
          "execution_count": 15
        }
      ]
    },
    {
      "cell_type": "code",
      "source": [
        "import networkx\n",
        "\n",
        "similarity_graph = networkx.from_numpy_array(similarity_matrix)\n",
        "similarity_graph"
      ],
      "metadata": {
        "colab": {
          "base_uri": "https://localhost:8080/"
        },
        "id": "PF0a4MsETGva",
        "outputId": "cd2dfee8-f750-43a0-df84-d598cba3b54d"
      },
      "execution_count": 16,
      "outputs": [
        {
          "output_type": "execute_result",
          "data": {
            "text/plain": [
              "<networkx.classes.graph.Graph at 0x7fcc301319a0>"
            ]
          },
          "metadata": {},
          "execution_count": 16
        }
      ]
    },
    {
      "cell_type": "code",
      "source": [
        "import matplotlib.pyplot as plt\n",
        "%matplotlib inline\n",
        "\n",
        "plt.figure(figsize=(12, 6))\n",
        "networkx.draw_networkx(similarity_graph, node_color='lime')"
      ],
      "metadata": {
        "colab": {
          "base_uri": "https://localhost:8080/",
          "height": 357
        },
        "id": "Rk2CdRiqTIR4",
        "outputId": "62d1e884-bfc0-48c6-ab83-7ab1603b6d07"
      },
      "execution_count": 17,
      "outputs": [
        {
          "output_type": "display_data",
          "data": {
            "text/plain": [
              "<Figure size 864x432 with 1 Axes>"
            ],
            "image/png": "[encoded data removed]"
          },
          "metadata": {}
        }
      ]
    },
    {
      "cell_type": "code",
      "source": [
        "scores = networkx.pagerank(similarity_graph)\n",
        "ranked_sentences = sorted(((score, index) for index, score \n",
        "                                            in scores.items()), \n",
        "                          reverse=True)\n",
        "ranked_sentences[:10]"
      ],
      "metadata": {
        "colab": {
          "base_uri": "https://localhost:8080/"
        },
        "id": "CXaYVM60TK3O",
        "outputId": "a0ffe26c-a3bf-4d27-c41e-a3aae065737f"
      },
      "execution_count": 18,
      "outputs": [
        {
          "output_type": "execute_result",
          "data": {
            "text/plain": [
              "[(0.04097537419802414, 0),\n",
              " (0.03545367288284794, 29),\n",
              " (0.03500543777772351, 17),\n",
              " (0.03320977024419268, 18),\n",
              " (0.032556496871864765, 21),\n",
              " (0.03221924591815773, 26),\n",
              " (0.03200729398542525, 12),\n",
              " (0.03094463640838454, 25),\n",
              " (0.030608453989774884, 2),\n",
              " (0.03009496616561446, 3)]"
            ]
          },
          "metadata": {},
          "execution_count": 18
        }
      ]
    },
    {
      "cell_type": "code",
      "source": [
        "top_sentence_indices = [ranked_sentences[index][1] \n",
        "                        for index in range(num_sentences)]\n",
        "top_sentence_indices.sort()"
      ],
      "metadata": {
        "id": "CT0zdfduTMr9"
      },
      "execution_count": 19,
      "outputs": []
    },
    {
      "cell_type": "code",
      "source": [
        "print('\\n'.join(np.array(sentences)[top_sentence_indices]))"
      ],
      "metadata": {
        "colab": {
          "base_uri": "https://localhost:8080/"
        },
        "id": "fIIUrhr9TOPF",
        "outputId": "1aec72a2-d6c2-4bdf-c196-cbcad9487a92"
      },
      "execution_count": 20,
      "outputs": [
        {
          "output_type": "stream",
          "name": "stdout",
          "text": [
            "Millions of Muslims in Indonesia are gearing up to celebrate the holy month of Ramadan, which is expected to start on Thursday, with traditions and ceremonies across the world’s most populous Muslim-majority country amid soaring food prices.\n",
            "Although Indonesia has more Muslims than any other country in the world, its Ramadan traditions have been influenced by other religions.\n",
            "In other regions on the main island of Java, including in the capital, Jakarta, Muslims also mark the holy month by cleaning their relatives’ graves, scattering flower petals on them and praying for the deceased.\n",
            "After evening prayers, many boys and girls across Jakarta parade through the streets of the densely populated neighborhoods to welcome the holy month.\n",
            "The meat is then cooked and shared with family, friends and even the poor and orphans in a communal feast that aims to bring the community together.\n",
            "Indonesia’s Trade Ministry has said prices of imported staple foods including wheat, sugar, beef and soybeans have increased sharply this year as a result of rising global commodity prices and supply chain disruptions, particularly following Russia’s invasion of Ukraine.\n",
            "But many people say the rise in prices not only impacts imported foods but also local commodities like rice, eggs, chili, palm oil and onions.\n",
            "Some Muslims worry how they will cope financially during Ramadan this year.\n"
          ]
        }
      ]
    }
  ]
}